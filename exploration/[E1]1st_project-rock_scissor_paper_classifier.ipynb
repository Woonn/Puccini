{
 "cells": [
  {
   "cell_type": "markdown",
   "metadata": {},
   "source": [
    "# [E1]1st_project-rock_scissor_paper_classifier"
   ]
  },
  {
   "cell_type": "markdown",
   "metadata": {},
   "source": [
    "## 데이터 준비하기(이미지 파일 로드 & 리사이징)"
   ]
  },
  {
   "cell_type": "markdown",
   "metadata": {},
   "source": [
    "### 리사이징을 위한 PIL 라이브러리 로딩"
   ]
  },
  {
   "cell_type": "code",
   "execution_count": 1,
   "metadata": {},
   "outputs": [
    {
     "name": "stdout",
     "output_type": "stream",
     "text": [
      "PIL 라이브러리 import 완료!\n"
     ]
    }
   ],
   "source": [
    "from PIL import Image\n",
    "import os, glob\n",
    "import numpy as np\n",
    "print(\"PIL 라이브러리 import 완료!\")"
   ]
  },
  {
   "cell_type": "markdown",
   "metadata": {},
   "source": [
    "### 각 경로에 접속해 이미지파일을 모두 28*28로 리사이징 진행"
   ]
  },
  {
   "cell_type": "code",
   "execution_count": 2,
   "metadata": {},
   "outputs": [
    {
     "name": "stdout",
     "output_type": "stream",
     "text": [
      "이미지 디렉토리 경로:  /home/aiffel/aiffel/test/rock_scissor_paper/scissor\n",
      "이미지 디렉토리 경로:  /home/aiffel/aiffel/test/rock_scissor_paper/rock\n",
      "바위 이미지 resize 완료!\n",
      "이미지 디렉토리 경로:  /home/aiffel/aiffel/test/rock_scissor_paper/paper\n",
      "보 이미지 resize 완료!\n"
     ]
    }
   ],
   "source": [
    "import os\n",
    "# 이미지 파일 로드\n",
    "image_dir_path = os.getenv(\"HOME\") + \"/aiffel/test/rock_scissor_paper/scissor\"\n",
    "print(\"이미지 디렉토리 경로: \", image_dir_path)\n",
    "images=glob.glob(image_dir_path + \"/*.jpg\")  \n",
    "\n",
    "# 리사이징\n",
    "target_size=(28,28)\n",
    "for img in images:\n",
    "    old_img=Image.open(img)\n",
    "    new_img=old_img.resize(target_size,Image.ANTIALIAS)\n",
    "    new_img.save(img,\"JPEG\")\n",
    "    \n",
    "image_dir_path = os.getenv(\"HOME\") + \"/aiffel/test/rock_scissor_paper/rock\"\n",
    "print(\"이미지 디렉토리 경로: \", image_dir_path)\n",
    "images=glob.glob(image_dir_path + \"/*.jpg\")  \n",
    "\n",
    "target_size=(28,28)\n",
    "for img in images:\n",
    "    old_img=Image.open(img)\n",
    "    new_img=old_img.resize(target_size,Image.ANTIALIAS)\n",
    "    new_img.save(img,\"JPEG\")\n",
    "print(\"바위 이미지 resize 완료!\")\n",
    "\n",
    "import os\n",
    "image_dir_path = os.getenv(\"HOME\") + \"/aiffel/test/rock_scissor_paper/paper\"\n",
    "print(\"이미지 디렉토리 경로: \", image_dir_path)\n",
    "images = glob.glob(image_dir_path + \"/*.jpg\")\n",
    "\n",
    "target_size=(28,28)\n",
    "for img in images:\n",
    "    old_img=Image.open(img)\n",
    "    new_img=old_img.resize(target_size,Image.ANTIALIAS)\n",
    "    new_img.save(img,\"JPEG\")\n",
    "print(\"보 이미지 resize 완료!\")"
   ]
  },
  {
   "cell_type": "markdown",
   "metadata": {},
   "source": [
    "### load_data()함수 정의"
   ]
  },
  {
   "cell_type": "markdown",
   "metadata": {},
   "source": [
    "* load_data함수를 정의해 이후 JPG파일 데이터셋을 편하게 불러올 수 있습니다.\n",
    "* load함수에 인자를 받아 다양하게 변할 수 있는 값들에 대응이 가능하도록 함수를 살짝 수정했습니다. "
   ]
  },
  {
   "cell_type": "code",
   "execution_count": 15,
   "metadata": {},
   "outputs": [
    {
     "name": "stdout",
     "output_type": "stream",
     "text": [
      "이미지 개수는 3303 입니다.\n"
     ]
    }
   ],
   "source": [
    "def load_data(img_path, num, size, col):\n",
    "    # 가위 : 0, 바위 : 1, 보 : 2\n",
    "    number_of_data=num # 데이터 수 변형을 고려하여 인자값으로 받음\n",
    "    img_size=size      # 이미지 사이즈가 바뀔것을 고려하여 인자값을 받음\n",
    "    color=col          # 채널이 바뀔것을 고려하여 인자값을 받음, 흑백 이미지도 가능\n",
    "    #이미지 데이터와 라벨(가위 : 0, 바위 : 1, 보 : 2) 데이터를 담을 행렬(matrix) 영역을 생성\n",
    "    imgs=np.zeros(number_of_data*img_size*img_size*color,dtype=np.int32).reshape(number_of_data,img_size,img_size,color)\n",
    "    labels=np.zeros(number_of_data,dtype=np.int32)\n",
    "\n",
    "    idx=0\n",
    "    for file in glob.iglob(img_path+'/scissor/*.jpg'):\n",
    "        img = np.array(Image.open(file),dtype=np.int32)\n",
    "        imgs[idx,:,:,:]=img    # 데이터 영역에 이미지 행렬을 복사\n",
    "        labels[idx]=0   # 가위 : 0\n",
    "        idx=idx+1\n",
    "\n",
    "    for file in glob.iglob(img_path+'/rock/*.jpg'):\n",
    "        img = np.array(Image.open(file),dtype=np.int32)\n",
    "        imgs[idx,:,:,:]=img    # 데이터 영역에 이미지 행렬을 복사\n",
    "        labels[idx]=1   # 바위 : 1\n",
    "        idx=idx+1       \n",
    "    \n",
    "    for file in glob.iglob(img_path+'/paper/*.jpg'):\n",
    "        img = np.array(Image.open(file),dtype=np.int32)\n",
    "        imgs[idx,:,:,:]=img    # 데이터 영역에 이미지 행렬을 복사\n",
    "        labels[idx]=2   # 보 : 2\n",
    "        idx=idx+1\n",
    "        \n",
    "    print(\"이미지 개수는\",idx,\"입니다.\")\n",
    "    return imgs, labels\n",
    "\n",
    "image_dir_path = os.getenv(\"HOME\") + \"/aiffel/train\"\n",
    "(x_train, y_train)=load_data(image_dir_path, 3303, 28, 3)\n"
   ]
  },
  {
   "cell_type": "markdown",
   "metadata": {},
   "source": [
    "### 데이터가 함수를 거치면 어떻게 변하는지 알아보기 위해 print()\n",
    "* 이미 함수 안에서 데이터의 갯수를 설정하고 입력하기 편하게 위치까지 설정해 놨기 때문에 mnist데이터에서 사용했던 reshape()는 사용하지 않아도 됩니다. \n",
    "* 일반적으로 학습시 정규화를 진행한다고 하니 정규화가 제대로 되었는지, 그리고 데이터의 생김새를 확인하기 위해 출력해 보겠습니다."
   ]
  },
  {
   "cell_type": "code",
   "execution_count": 4,
   "metadata": {},
   "outputs": [
    {
     "name": "stdout",
     "output_type": "stream",
     "text": [
      "x_train_norm_shape: (3303, 28, 28, 3)\n",
      "y_train shape: (3303,)\n",
      "x_train_norm_min : 0.0 , x_train_norm_max : 1.0\n"
     ]
    }
   ],
   "source": [
    "x_train_norm = x_train/255.0   # 입력은 0~1 사이의 값으로 정규화\n",
    "print(\"x_train_norm_shape: {}\".format(x_train_norm.shape))\n",
    "print(\"y_train shape: {}\".format(y_train.shape))\n",
    "print(\"x_train_norm_min :\", np.min(x_train_norm),\",\", \"x_train_norm_max :\", np.max(x_train_norm))"
   ]
  },
  {
   "cell_type": "markdown",
   "metadata": {},
   "source": [
    "### 인덱싱을 활용하여 이미지를 확인"
   ]
  },
  {
   "cell_type": "code",
   "execution_count": 5,
   "metadata": {},
   "outputs": [
    {
     "name": "stdout",
     "output_type": "stream",
     "text": [
      "라벨:  0\n"
     ]
    },
    {
     "data": {
      "image/png": "[encoded data removed]",
      "text/plain": [
       "<Figure size 432x288 with 1 Axes>"
      ]
     },
     "metadata": {
      "needs_background": "light"
     },
     "output_type": "display_data"
    }
   ],
   "source": [
    "import matplotlib.pyplot as plt\n",
    "plt.imshow(x_train_norm[0])\n",
    "print('라벨: ', y_train[0])"
   ]
  },
  {
   "cell_type": "markdown",
   "metadata": {},
   "source": [
    "## 딥러닝 네트워크 설계하기"
   ]
  },
  {
   "cell_type": "markdown",
   "metadata": {},
   "source": [
    "* input-shape의 채널이 RGB값 3채널로 바뀌었습니다. \n",
    "* 클래스가 10클래스(0~9)에서 3클래스(가위, 바위, 보)로 줄어들었습니다. \n",
    "* 하이퍼 파라미터들을 수정하여 성능을 향상시키기 위해 노력하였습니다.\n",
    "  * mnist에 비해 이미지가 복잡해졌기 때문에 다양한 특징을 추출하기 위해 n_channel_1,2값 상향\n",
    "  * class 수는 더 적어졌기 떄문에 n_dence값(뉴런의 숫자)은 하향\n",
    "  * 횟수가 증가하면 과적합의 위험성과 연산 속도가 증가하지만, accuracy가 생각보다 꾸준히 향상되어 20회로 설정\n"
   ]
  },
  {
   "cell_type": "code",
   "execution_count": 6,
   "metadata": {},
   "outputs": [
    {
     "name": "stdout",
     "output_type": "stream",
     "text": [
      "Model: \"sequential\"\n",
      "_________________________________________________________________\n",
      "Layer (type)                 Output Shape              Param #   \n",
      "=================================================================\n",
      "conv2d (Conv2D)              (None, 26, 26, 64)        1792      \n",
      "_________________________________________________________________\n",
      "max_pooling2d (MaxPooling2D) (None, 13, 13, 64)        0         \n",
      "_________________________________________________________________\n",
      "conv2d_1 (Conv2D)            (None, 11, 11, 64)        36928     \n",
      "_________________________________________________________________\n",
      "max_pooling2d_1 (MaxPooling2 (None, 5, 5, 64)          0         \n",
      "_________________________________________________________________\n",
      "flatten (Flatten)            (None, 1600)              0         \n",
      "_________________________________________________________________\n",
      "dense (Dense)                (None, 16)                25616     \n",
      "_________________________________________________________________\n",
      "dense_1 (Dense)              (None, 3)                 51        \n",
      "=================================================================\n",
      "Total params: 64,387\n",
      "Trainable params: 64,387\n",
      "Non-trainable params: 0\n",
      "_________________________________________________________________\n"
     ]
    }
   ],
   "source": [
    "import tensorflow as tf\n",
    "from tensorflow import keras\n",
    "import numpy as np\n",
    "\n",
    "n_channel_1=64 # mnist데이터보다 복잡하기 때문에 더 많은 특징을 잡기 위해 상향설정\n",
    "n_channel_2=64 # 많아지면 속도가 너무 느려지고 성능은 떨어짐\n",
    "n_dense=16 # \n",
    "n_train_epoch=20 # 학습 횟수가 늘어나도 큰 차이가 안보일때까지 실시\n",
    " \n",
    "model=keras.models.Sequential()\n",
    "# 채널을 몇개로 볼것이냐의 수를 정해주는것\n",
    "model.add(keras.layers.Conv2D(n_channel_1, (3,3), activation='relu', input_shape=(28,28,3)))\n",
    "model.add(keras.layers.MaxPool2D(2,2))\n",
    "model.add(keras.layers.Conv2D(n_channel_2, (3,3), activation='relu')) # 필터의 크기 3*3\n",
    "model.add(keras.layers.MaxPooling2D((2,2)))\n",
    "model.add(keras.layers.Flatten())\n",
    "model.add(keras.layers.Dense(n_dense, activation='relu'))\n",
    "model.add(keras.layers.Dense(3, activation='softmax'))\n",
    "\n",
    "model.summary()"
   ]
  },
  {
   "cell_type": "markdown",
   "metadata": {},
   "source": [
    "## 딥러닝 네트워크 학습시키기\n",
    "* 위에 설정한 값을 인자로 받아 compile()과 fit()으로 학습"
   ]
  },
  {
   "cell_type": "code",
   "execution_count": 7,
   "metadata": {},
   "outputs": [
    {
     "name": "stdout",
     "output_type": "stream",
     "text": [
      "Epoch 1/20\n",
      "104/104 [==============================] - 1s 10ms/step - loss: 1.0461 - accuracy: 0.4354\n",
      "Epoch 2/20\n",
      "104/104 [==============================] - 1s 11ms/step - loss: 0.7655 - accuracy: 0.6664\n",
      "Epoch 3/20\n",
      "104/104 [==============================] - 1s 12ms/step - loss: 0.5633 - accuracy: 0.7735\n",
      "Epoch 4/20\n",
      "104/104 [==============================] - 1s 12ms/step - loss: 0.4314 - accuracy: 0.8377\n",
      "Epoch 5/20\n",
      "104/104 [==============================] - 1s 8ms/step - loss: 0.3358 - accuracy: 0.8771\n",
      "Epoch 6/20\n",
      "104/104 [==============================] - 1s 8ms/step - loss: 0.2556 - accuracy: 0.9140\n",
      "Epoch 7/20\n",
      "104/104 [==============================] - 1s 8ms/step - loss: 0.1920 - accuracy: 0.9373\n",
      "Epoch 8/20\n",
      "104/104 [==============================] - 1s 8ms/step - loss: 0.1680 - accuracy: 0.9485\n",
      "Epoch 9/20\n",
      "104/104 [==============================] - 1s 8ms/step - loss: 0.1256 - accuracy: 0.9622\n",
      "Epoch 10/20\n",
      "104/104 [==============================] - 1s 8ms/step - loss: 0.0982 - accuracy: 0.9764\n",
      "Epoch 11/20\n",
      "104/104 [==============================] - 1s 8ms/step - loss: 0.0745 - accuracy: 0.9818\n",
      "Epoch 12/20\n",
      "104/104 [==============================] - 1s 8ms/step - loss: 0.0711 - accuracy: 0.9818\n",
      "Epoch 13/20\n",
      "104/104 [==============================] - 1s 8ms/step - loss: 0.0629 - accuracy: 0.9858\n",
      "Epoch 14/20\n",
      "104/104 [==============================] - 1s 8ms/step - loss: 0.0393 - accuracy: 0.9939\n",
      "Epoch 15/20\n",
      "104/104 [==============================] - 1s 8ms/step - loss: 0.0274 - accuracy: 0.9967\n",
      "Epoch 16/20\n",
      "104/104 [==============================] - 1s 8ms/step - loss: 0.0324 - accuracy: 0.9942\n",
      "Epoch 17/20\n",
      "104/104 [==============================] - 1s 8ms/step - loss: 0.0188 - accuracy: 0.9979\n",
      "Epoch 18/20\n",
      "104/104 [==============================] - 1s 8ms/step - loss: 0.0169 - accuracy: 0.9988\n",
      "Epoch 19/20\n",
      "104/104 [==============================] - 1s 8ms/step - loss: 0.0112 - accuracy: 0.9994\n",
      "Epoch 20/20\n",
      "104/104 [==============================] - 1s 8ms/step - loss: 0.0100 - accuracy: 1.0000\n"
     ]
    },
    {
     "data": {
      "text/plain": [
       "<tensorflow.python.keras.callbacks.History at 0x7f634c221c10>"
      ]
     },
     "execution_count": 7,
     "metadata": {},
     "output_type": "execute_result"
    }
   ],
   "source": [
    "model.compile(optimizer='adam',\n",
    "             loss='sparse_categorical_crossentropy',\n",
    "             metrics=['accuracy'])\n",
    "model.fit(x_train_norm, y_train, epochs=n_train_epoch)"
   ]
  },
  {
   "cell_type": "markdown",
   "metadata": {},
   "source": [
    "## 테스트 하기\n",
    "* 앞서 학습시킨 분류기를 바탕으로 테스트 데이터를 활용하여 분류기를 평가합니다.\n",
    "* test 데이터를 확인하기 위해 print()를 실행합니다."
   ]
  },
  {
   "cell_type": "code",
   "execution_count": 13,
   "metadata": {},
   "outputs": [
    {
     "name": "stdout",
     "output_type": "stream",
     "text": [
      "학습데이터(x_train)의 이미지 개수는 300 입니다.\n",
      "x_test shape: (300, 28, 28, 3)\n",
      "y_test shape: (300,)\n",
      "0.0 1.0\n"
     ]
    }
   ],
   "source": [
    "image_dir_path = os.getenv(\"HOME\") + \"/aiffel/test\" # 경로 지정\n",
    "(x_test, y_test)=load_data(image_dir_path, 300, 28, 3) # 테스트 데이터 불러오기\n",
    "x_test_norm = x_test/255.0   # 입력은 0~1 사이의 값으로 정규화\n",
    "\n",
    "print(\"x_test shape: {}\".format(x_test_norm.shape))\n",
    "print(\"y_test shape: {}\".format(y_test.shape))\n",
    "print(np.min(x_test_norm), np.max(x_test_norm)) # 정규화 여부 확인"
   ]
  },
  {
   "cell_type": "markdown",
   "metadata": {},
   "source": [
    "## test결과 확인하기"
   ]
  },
  {
   "cell_type": "code",
   "execution_count": 9,
   "metadata": {},
   "outputs": [
    {
     "name": "stdout",
     "output_type": "stream",
     "text": [
      "10/10 - 0s - loss: 1.8816 - accuracy: 0.7133\n",
      "test_loss: 1.8816033601760864 \n",
      "test_accuracy: 0.7133333086967468\n"
     ]
    }
   ],
   "source": [
    "test_loss, test_accuracy = model.evaluate(x_test_norm, y_test, verbose=2)\n",
    "print(\"test_loss: {} \".format(test_loss))\n",
    "print(\"test_accuracy: {}\".format(test_accuracy))"
   ]
  },
  {
   "cell_type": "markdown",
   "metadata": {},
   "source": [
    "## 잘못 분류된 데이터 확인"
   ]
  },
  {
   "cell_type": "markdown",
   "metadata": {},
   "source": [
    "### 오분류 데이터 예측확률분포 및 라벨 확인"
   ]
  },
  {
   "cell_type": "code",
   "execution_count": 10,
   "metadata": {
    "scrolled": true
   },
   "outputs": [
    {
     "name": "stdout",
     "output_type": "stream",
     "text": [
      "model.predict() 결과 :  [0.00079843 0.7098209  0.2893806 ]\n",
      "model이 추론한 가장 가능성이 높은 결과 :  1\n",
      "실제 데이터의 라벨 :  0\n"
     ]
    }
   ],
   "source": [
    "predicted_result = model.predict(x_test_norm)  # model이 추론한 확률값. \n",
    "predicted_labels = np.argmax(predicted_result, axis=1)\n",
    "\n",
    "idx=0\n",
    "print('model.predict() 결과 : ', predicted_result[idx])\n",
    "print('model이 추론한 가장 가능성이 높은 결과 : ', predicted_labels[idx])\n",
    "print('실제 데이터의 라벨 : ', y_test[idx])"
   ]
  },
  {
   "cell_type": "markdown",
   "metadata": {},
   "source": [
    "### 오분류된 이미지 및 예측확률분포 확인, 원인 탐색"
   ]
  },
  {
   "cell_type": "code",
   "execution_count": 12,
   "metadata": {},
   "outputs": [
    {
     "name": "stdout",
     "output_type": "stream",
     "text": [
      "예측확률분포: [7.3281649e-07 9.9475420e-01 5.2450914e-03]\n",
      "라벨: 0, 예측결과: 1\n"
     ]
    },
    {
     "data": {
      "image/png": "[encoded data removed]",
      "text/plain": [
       "<Figure size 432x288 with 1 Axes>"
      ]
     },
     "metadata": {
      "needs_background": "light"
     },
     "output_type": "display_data"
    },
    {
     "name": "stdout",
     "output_type": "stream",
     "text": [
      "예측확률분포: [4.6291319e-01 3.0938992e-08 5.3708678e-01]\n",
      "라벨: 0, 예측결과: 2\n"
     ]
    },
    {
     "data": {
      "image/png": "[encoded data removed]",
      "text/plain": [
       "<Figure size 432x288 with 1 Axes>"
      ]
     },
     "metadata": {
      "needs_background": "light"
     },
     "output_type": "display_data"
    },
    {
     "name": "stdout",
     "output_type": "stream",
     "text": [
      "예측확률분포: [9.8421013e-01 1.4581012e-08 1.5789904e-02]\n",
      "라벨: 2, 예측결과: 0\n"
     ]
    },
    {
     "data": {
      "image/png": "[encoded data removed]",
      "text/plain": [
       "<Figure size 432x288 with 1 Axes>"
      ]
     },
     "metadata": {
      "needs_background": "light"
     },
     "output_type": "display_data"
    },
    {
     "name": "stdout",
     "output_type": "stream",
     "text": [
      "예측확률분포: [7.7361367e-10 1.8221145e-02 9.8177886e-01]\n",
      "라벨: 1, 예측결과: 2\n"
     ]
    },
    {
     "data": {
      "image/png": "[encoded data removed]",
      "text/plain": [
       "<Figure size 432x288 with 1 Axes>"
      ]
     },
     "metadata": {
      "needs_background": "light"
     },
     "output_type": "display_data"
    },
    {
     "name": "stdout",
     "output_type": "stream",
     "text": [
      "예측확률분포: [1.2478389e-06 8.6103725e-01 1.3896155e-01]\n",
      "라벨: 0, 예측결과: 1\n"
     ]
    },
    {
     "data": {
      "image/png": "[encoded data removed]",
      "text/plain": [
       "<Figure size 432x288 with 1 Axes>"
      ]
     },
     "metadata": {
      "needs_background": "light"
     },
     "output_type": "display_data"
    }
   ],
   "source": [
    "import random\n",
    "wrong_predict_list=[]\n",
    "for i, _ in enumerate(predicted_labels):\n",
    "    # i번째 test_labels과 y_test이 다른 경우만 모아 봅시다. \n",
    "    if predicted_labels[i] != y_test[i]:\n",
    "        wrong_predict_list.append(i)\n",
    "\n",
    "# wrong_predict_list 에서 랜덤하게 5개만 뽑아봅시다.\n",
    "samples = random.choices(population=wrong_predict_list, k=5)\n",
    "\n",
    "for n in samples:\n",
    "    print(\"예측확률분포: \" + str(predicted_result[n]))\n",
    "    print(\"라벨: \" + str(y_test[n]) + \", 예측결과: \" + str(predicted_labels[n]))\n",
    "    plt.imshow(x_test[n], cmap=plt.cm.binary)\n",
    "    plt.show()"
   ]
  },
  {
   "cell_type": "markdown",
   "metadata": {},
   "source": [
    "### 회고.."
   ]
  },
  {
   "cell_type": "markdown",
   "metadata": {},
   "source": [
    "* 전술한 여러 노력을 제외한 전반적인 과정과 느낀점을 서술하고 싶습니다. 먼저 첫 모델링이었기 때문에 서둘러 해결해야 한다는 생각만 가득해서 아무 생각없이 코드를 붙여넣었습니다. 그러다 accuracy 96%이상이 꾸준히 나와서 마음 놓고 있다가 아무리 생각해도 이상해서 코드를 살펴보다 test셋에 compile을 실행해달라는 오류가 나서 compile(), fit()을 한 것이 원인이었다는 것을 알게 되었습니다. 다시 돌려본 결과 0.3333...\n",
    "\n",
    "\n",
    "* 이때부터 코드를 뜯어보고 여러가지 잘못된 부분을 수정하였습니다. 그리고 최종 목표인 accuracy를 높이기 위해 여러 방법을 사용하였습니다. 하이퍼 파라미터를 수없이 바꿔본 결과 정확도가 71%가 나오는 수치를 찾을 수 있었습니다.(코드부분과 MarkDown 참고)\n",
    "\n",
    "\n",
    "* 오분류가 일어난 원인은 다음과 같이 추측하고 있습니다. \n",
    "  * 이미지의 화질이 좋지 않아 손가락 등의 가위, 바위, 보를 분류할 수 있는 특징이 모호함\n",
    "  * 다양한 각도로 촬영하신 이미지가 판단을 어렵게 함(손날로 가위와 보가 구분되지 않음, 너무 가까워서 바위와 보를 착각한 데이터도 있음)\n",
    "  * 다양한 배경으로 특징 추출이 어려움\n"
   ]
  },
  {
   "cell_type": "markdown",
   "metadata": {},
   "source": [
    "* 느낀점\n",
    "  * '데이터에 대한 이해'를 바탕으로 적재적소에 맞는 분류기와 함수를 사용해야함\n",
    "  * 모델 구축 시 특징을 많이 추출한다고, 복잡하다고, 학습횟수를 높인다고 정확도가 올라가는게 아님\n",
    "  * 데이터가 많아질수록 다양한 패턴을 학습해 accuracy가 향상됨\n",
    "    * 그러나 많기만 해서 좋은것은 아니며 '양질의 데이터'가 전제조건"
   ]
  },
  {
   "cell_type": "code",
   "execution_count": null,
   "metadata": {},
   "outputs": [],
   "source": []
  }
 ],
 "metadata": {
  "kernelspec": {
   "display_name": "aiffel",
   "language": "python",
   "name": "aiffel"
  },
  "language_info": {
   "codemirror_mode": {
    "name": "ipython",
    "version": 3
   },
   "file_extension": ".py",
   "mimetype": "text/x-python",
   "name": "python",
   "nbconvert_exporter": "python",
   "pygments_lexer": "ipython3",
   "version": "3.7.9"
  }
 },
 "nbformat": 4,
 "nbformat_minor": 4
}
